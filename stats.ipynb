{
 "cells": [
  {
   "cell_type": "code",
   "execution_count": 15,
   "id": "86888233",
   "metadata": {},
   "outputs": [
    {
     "data": {
      "text/plain": [
       "1517.893276880822"
      ]
     },
     "execution_count": 15,
     "metadata": {},
     "output_type": "execute_result"
    }
   ],
   "source": [
    "observed_vale = 78\n",
    "population_mean = 80\n",
    "pop_stdv = 0.025\n",
    "sample_size = 40\n",
    "\n",
    "\n",
    "z_score = (observed_value - population_mean) / (population_std_dev/sample_size  ** 0.5)\n",
    "z_score\n",
    "#z test=x-m/6/sqrt N"
   ]
  },
  {
   "cell_type": "markdown",
   "id": "fe3a6779",
   "metadata": {},
   "source": [
    "## One sample T-test"
   ]
  },
  {
   "cell_type": "markdown",
   "id": "43ea6d4a",
   "metadata": {},
   "source": []
  },
  {
   "cell_type": "code",
   "execution_count": 2,
   "id": "76091726",
   "metadata": {},
   "outputs": [
    {
     "name": "stdout",
     "output_type": "stream",
     "text": [
      "Sample Mean : 170.87606131388523\n",
      "Population Mean : 165\n",
      "T-Statistic : 6.649631994397397\n",
      "p_value : 2.7263388559585923e-07\n",
      "Reject\n"
     ]
    }
   ],
   "source": [
    "from scipy import stats\n",
    "import numpy as np\n",
    "\n",
    "heights = np.random.normal(loc=170, scale=5, size=30)\n",
    "#loc=mean=170\n",
    "population_mean = 165\n",
    "\n",
    "#one smaple t test\n",
    "\n",
    "t_stat, p_value = stats.ttest_1samp(heights, population_mean)\n",
    "\n",
    "\n",
    "print(f\"Sample Mean : {np.mean(heights)}\")\n",
    "print(f\"Population Mean : {population_mean}\")\n",
    "print(f\"T-Statistic : {t_stat}\")\n",
    "print(f\"p_value : {p_value}\")\n",
    "\n",
    "\n",
    "alpha = 0.05\n",
    "\n",
    "if p_value < alpha:\n",
    "    print(\"Reject\")\n",
    "else:\n",
    "    print(\"Fail to reject\")"
   ]
  },
  {
   "cell_type": "code",
   "execution_count": 30,
   "id": "a8aa448b",
   "metadata": {},
   "outputs": [],
   "source": [
    "import numpy as np\n",
    "from scipy.stats import stats\n",
    "\n",
    "group_a = np.random.rand(25)\n",
    "group_b = np.random.rand(19)\n",
    "\n",
    "var_a = np.var(group_a)\n",
    "#var_a = np.var(group_a,ddof=1)  var_b = np.var(group_b,ddof=1) both same withouf df default 1\n",
    "#print(var_a,var_b)\n",
    "var_b = np.var(group_b)"
   ]
  },
  {
   "cell_type": "code",
   "execution_count": 35,
   "id": "424531fa",
   "metadata": {},
   "outputs": [
    {
     "name": "stdout",
     "output_type": "stream",
     "text": [
      "DFA:24\n",
      "DFB:18\n",
      "F value:1.180469971248549\n",
      "Pvalue:0.3635577042880127\n"
     ]
    }
   ],
   "source": [
    "fstat = var_a/var_b\n",
    "\n",
    "dfa = len(group_a) - 1  #size(n)-1\n",
    "dfb = len(group_b) - 1\n",
    "\n",
    "p_value = 1 - stats.f.cdf(fstat, dfa, dfb)\n",
    "#cdf=  cumulitive distribution function    df=degree of freedom\n",
    "print(f\"DFA:{dfa}\\nDFB:{dfb}\\nF value:{fstat}\\nPvalue:{p_value}\")  #n next line"
   ]
  },
  {
   "cell_type": "code",
   "execution_count": 36,
   "id": "f4c93dd1",
   "metadata": {},
   "outputs": [
    {
     "name": "stdout",
     "output_type": "stream",
     "text": [
      "Fail to reject\n"
     ]
    }
   ],
   "source": [
    "alpha = 0.05\n",
    "if p_value < alpha:\n",
    "    print(\"Reject\")\n",
    "else:\n",
    "    print(\"Fail to reject\")"
   ]
  },
  {
   "cell_type": "markdown",
   "id": "e51e60e3",
   "metadata": {},
   "source": [
    "## cell type mark down to get ## headers"
   ]
  }
 ],
 "metadata": {
  "kernelspec": {
   "display_name": "Python 3 (ipykernel)",
   "language": "python",
   "name": "python3"
  },
  "language_info": {
   "codemirror_mode": {
    "name": "ipython",
    "version": 3
   },
   "file_extension": ".py",
   "mimetype": "text/x-python",
   "name": "python",
   "nbconvert_exporter": "python",
   "pygments_lexer": "ipython3",
   "version": "3.11.4"
  }
 },
 "nbformat": 4,
 "nbformat_minor": 5
}
